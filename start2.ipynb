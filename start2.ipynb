{
 "cells": [
  {
   "cell_type": "code",
   "execution_count": 2,
   "id": "e83a5432-07fd-48ad-acff-eaddaa7b799f",
   "metadata": {},
   "outputs": [
    {
     "name": "stdin",
     "output_type": "stream",
     "text": [
      "Enter radius  3\n"
     ]
    },
    {
     "name": "stdout",
     "output_type": "stream",
     "text": [
      "28.26\n"
     ]
    }
   ],
   "source": [
    "# Area of circle \n",
    "R1 =float(input(\"Enter radius \"))\n",
    "Area_of_circle =3.14*(R1*R1)\n",
    "print(\"Area of circle\",Area_of_circle)"
   ]
  },
  {
   "cell_type": "code",
   "execution_count": 7,
   "id": "87025327-3bfa-4da8-a506-4ed75188ef9b",
   "metadata": {},
   "outputs": [
    {
     "name": "stdin",
     "output_type": "stream",
     "text": [
      "Enter base for triangle 5\n",
      "Enter height of triangle 6\n"
     ]
    },
    {
     "name": "stdout",
     "output_type": "stream",
     "text": [
      "15.0\n"
     ]
    }
   ],
   "source": [
    "# Area of Triangle\n",
    "Base = float(input(\"Enter base for triangle\"))\n",
    "height = float(input(\"Enter height of triangle\"))\n",
    "Area_of_triangle =0.5*(Base*height)\n",
    "print(\"Area of traingle\",Area_of_triangle)"
   ]
  },
  {
   "cell_type": "code",
   "execution_count": 12,
   "id": "11c020fa-5d62-47a4-87b7-5e353fdba33f",
   "metadata": {},
   "outputs": [
    {
     "name": "stdin",
     "output_type": "stream",
     "text": [
      "Enter length for square  5\n"
     ]
    },
    {
     "name": "stdout",
     "output_type": "stream",
     "text": [
      "Area of square  25.0\n"
     ]
    }
   ],
   "source": [
    "# Area of square\n",
    "len = float(input(\"Enter length for square \"))\n",
    "Area_of_square = len*len\n",
    "print(\"Area of square \",Area_of_square)"
   ]
  },
  {
   "cell_type": "code",
   "execution_count": 11,
   "id": "1cb2d2b1-b860-48c9-885e-fe018ba83426",
   "metadata": {},
   "outputs": [
    {
     "name": "stdin",
     "output_type": "stream",
     "text": [
      "Eneter length for recatngle 20\n",
      "Enter bredath for recatngle 10\n"
     ]
    },
    {
     "name": "stdout",
     "output_type": "stream",
     "text": [
      "Area of recatngle is 200.0\n"
     ]
    }
   ],
   "source": [
    "# Area of recatnagle\n",
    "length = float(input(\"Eneter length for recatngle\"))\n",
    "breadth =float(input(\"Enter bredath for recatngle\"))\n",
    "Area_of_recatnagle = length*breadth\n",
    "print(f\"Area of recatngle is {Area_of_recatnagle}\")"
   ]
  },
  {
   "cell_type": "code",
   "execution_count": 24,
   "id": "f639107e-8bb1-4e0c-8846-ce6015d3e6c8",
   "metadata": {},
   "outputs": [
    {
     "name": "stdin",
     "output_type": "stream",
     "text": [
      "Enter any number 16\n"
     ]
    },
    {
     "name": "stdout",
     "output_type": "stream",
     "text": [
      "4.0\n"
     ]
    }
   ],
   "source": [
    "# Find square root without predefined function \n",
    "num = float(input(\"Enter any number\"))\n",
    "SquareRoot = num**0.5\n",
    "print(SquareRoot)"
   ]
  },
  {
   "cell_type": "code",
   "execution_count": 41,
   "id": "8b20f2cf-36e3-48aa-acab-839538cb2de0",
   "metadata": {},
   "outputs": [
    {
     "name": "stdin",
     "output_type": "stream",
     "text": [
      "Enter value 125\n"
     ]
    },
    {
     "name": "stdout",
     "output_type": "stream",
     "text": [
      "cuberoot 5.00\n"
     ]
    }
   ],
   "source": [
    "# Find cuberoot \n",
    "cube =float(input(\"Enter value\"))\n",
    "cuberoot = cube ** (1/3)\n",
    "print(f\"cuberoot {cuberoot:.2f}\")"
   ]
  },
  {
   "cell_type": "code",
   "execution_count": 45,
   "id": "bfaf8803-c64d-4497-913f-f2403ef1808d",
   "metadata": {},
   "outputs": [
    {
     "name": "stdin",
     "output_type": "stream",
     "text": [
      "Enter len value 10\n",
      "Enter breadth value 20\n",
      "Enter height value  30\n"
     ]
    },
    {
     "name": "stdout",
     "output_type": "stream",
     "text": [
      "2200.0\n"
     ]
    }
   ],
   "source": [
    "# Surface Area of cubeoid   A=2(lb+bh+hl)\n",
    "l = float(input(\"Enter len value\"))\n",
    "b =float(input(\"Enter breadth value\"))\n",
    "h =float(input(\"Enter height value \"))\n",
    "\n",
    "Area_of_cube = 2*(l*b+b*h+h*l)\n",
    "print(Area_of_cube)"
   ]
  },
  {
   "cell_type": "code",
   "execution_count": 46,
   "id": "3e326ca7-5796-4b1c-95dd-e9cffb69e857",
   "metadata": {},
   "outputs": [
    {
     "name": "stdin",
     "output_type": "stream",
     "text": [
      "Enter len value 10\n",
      "Enter breadth value 20\n",
      "Enter height value  30\n"
     ]
    },
    {
     "name": "stdout",
     "output_type": "stream",
     "text": [
      "6000.0\n"
     ]
    }
   ],
   "source": [
    "#vloume of cuberoid\n",
    "l = float(input(\"Enter len value\"))\n",
    "b =float(input(\"Enter breadth value\"))\n",
    "h =float(input(\"Enter height value \"))\n",
    "\n",
    "Vloume_of_cube = l*b*h\n",
    "print(Vloume_of_cube)"
   ]
  },
  {
   "cell_type": "code",
   "execution_count": 47,
   "id": "fbac8805-88eb-4f36-bd82-fdbb36085d23",
   "metadata": {},
   "outputs": [
    {
     "name": "stdin",
     "output_type": "stream",
     "text": [
      "Enter any value for side  5\n"
     ]
    },
    {
     "name": "stdout",
     "output_type": "stream",
     "text": [
      "150.0\n"
     ]
    }
   ],
   "source": [
    "# Area of cube A=6a2\n",
    "a = float(input(\"Enter any value for side \"))\n",
    "Area_of_cube = 6*(a*a)\n",
    "print(Area_of_cube)"
   ]
  },
  {
   "cell_type": "code",
   "execution_count": 50,
   "id": "cc7337d9-e9e0-4a1e-a83c-b95873b80670",
   "metadata": {},
   "outputs": [
    {
     "name": "stdin",
     "output_type": "stream",
     "text": [
      "Enter radius for cylinder 5\n",
      "Enter heigth 7\n"
     ]
    },
    {
     "name": "stdout",
     "output_type": "stream",
     "text": [
      "219.8\n"
     ]
    }
   ],
   "source": [
    "# Area of curve Surface Area CSA=2πrh\n",
    "radius = float(input(\"Enter radius for cylinder\"))\n",
    "heigth =float(input(\"Enter heigth\"))\n",
    "Area_of_curve_Surface_Area = 2*3.14*radius*heigth\n",
    "print(Area_of_curve_Surface_Area)\n"
   ]
  },
  {
   "cell_type": "code",
   "execution_count": 53,
   "id": "c13741e2-23de-47c0-b8f6-2a6c8ab53436",
   "metadata": {},
   "outputs": [
    {
     "name": "stdin",
     "output_type": "stream",
     "text": [
      "Enter radius for cylinder 5\n",
      "Enter heigth 7\n"
     ]
    },
    {
     "name": "stdout",
     "output_type": "stream",
     "text": [
      "376.8\n"
     ]
    }
   ],
   "source": [
    "# Total Surface Area (TSA) (sides + top + bottom): TSA=2πr(r+h)\n",
    "radius = float(input(\"Enter radius for cylinder\"))\n",
    "heigth =float(input(\"Enter heigth\"))\n",
    "Total_Surface_Area= 2*3.14*radius*(radius+heigth)\n",
    "print(Total_Surface_Area)\n",
    "\n"
   ]
  },
  {
   "cell_type": "code",
   "execution_count": null,
   "id": "3fac4ae6-794d-44b5-882b-0c18c243ac11",
   "metadata": {},
   "outputs": [],
   "source": []
  }
 ],
 "metadata": {
  "kernelspec": {
   "display_name": "Python 3 (ipykernel)",
   "language": "python",
   "name": "python3"
  },
  "language_info": {
   "codemirror_mode": {
    "name": "ipython",
    "version": 3
   },
   "file_extension": ".py",
   "mimetype": "text/x-python",
   "name": "python",
   "nbconvert_exporter": "python",
   "pygments_lexer": "ipython3",
   "version": "3.13.5"
  }
 },
 "nbformat": 4,
 "nbformat_minor": 5
}

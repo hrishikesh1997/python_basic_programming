{
 "cells": [
  {
   "cell_type": "code",
   "execution_count": 1,
   "id": "0bb00e22-b9c0-49fb-9c25-d8bfef17cc67",
   "metadata": {},
   "outputs": [
    {
     "name": "stdout",
     "output_type": "stream",
     "text": [
      "Hello\n"
     ]
    }
   ],
   "source": [
    "print(\"Hello\")"
   ]
  },
  {
   "cell_type": "code",
   "execution_count": 2,
   "id": "6d3076e7-06ed-4f48-b741-00f8d82ab182",
   "metadata": {},
   "outputs": [
    {
     "data": {
      "text/plain": [
       "2"
      ]
     },
     "execution_count": 2,
     "metadata": {},
     "output_type": "execute_result"
    }
   ],
   "source": [
    "1+1"
   ]
  },
  {
   "cell_type": "code",
   "execution_count": 3,
   "id": "986db6ee-cff7-408f-b534-17764659f404",
   "metadata": {},
   "outputs": [
    {
     "name": "stdout",
     "output_type": "stream",
     "text": [
      "5\n"
     ]
    }
   ],
   "source": [
    "a=5\n",
    "print(a)"
   ]
  },
  {
   "cell_type": "code",
   "execution_count": 4,
   "id": "51012b68-26df-4d51-b279-e0fec9aec36e",
   "metadata": {},
   "outputs": [
    {
     "data": {
      "text/plain": [
       "7"
      ]
     },
     "execution_count": 4,
     "metadata": {},
     "output_type": "execute_result"
    }
   ],
   "source": [
    "a+2"
   ]
  },
  {
   "cell_type": "code",
   "execution_count": 12,
   "id": "c05112db-39a9-4b47-a279-be1d381e7aec",
   "metadata": {},
   "outputs": [
    {
     "name": "stdout",
     "output_type": "stream",
     "text": [
      "12\n"
     ]
    }
   ],
   "source": [
    "#addition of numbers\n",
    "b=2\n",
    "c=a+b\n",
    "print(c)"
   ]
  },
  {
   "cell_type": "code",
   "execution_count": 8,
   "id": "ab245f0d-14b2-4e79-9807-395b522d42ce",
   "metadata": {},
   "outputs": [
    {
     "data": {
      "text/plain": [
       "int"
      ]
     },
     "execution_count": 8,
     "metadata": {},
     "output_type": "execute_result"
    }
   ],
   "source": [
    "# checking type\n",
    "a=10\n",
    "type(a)"
   ]
  },
  {
   "cell_type": "code",
   "execution_count": 9,
   "id": "34e22347-e42a-48fe-aff3-bc836bdb6abf",
   "metadata": {},
   "outputs": [
    {
     "name": "stdout",
     "output_type": "stream",
     "text": [
      "<class 'int'>\n"
     ]
    }
   ],
   "source": [
    "#checking type with print\n",
    "print(type(a))"
   ]
  },
  {
   "cell_type": "code",
   "execution_count": 42,
   "id": "4cf28be0-c664-4c7b-9226-effab55ed062",
   "metadata": {},
   "outputs": [
    {
     "name": "stdout",
     "output_type": "stream",
     "text": [
      "hello  10\n",
      "hello 10\n",
      "addition of 10 and 2 is = 12\n"
     ]
    }
   ],
   "source": [
    "# checking print statement\n",
    "print(\"hello \",a)\n",
    "print(f\"hello {a}\")\n",
    "print(f\"addition of {a} and {b} is = {a+b}\") "
   ]
  },
  {
   "cell_type": "code",
   "execution_count": 40,
   "id": "9969384d-ddde-4450-88a1-d7738972f0ea",
   "metadata": {},
   "outputs": [
    {
     "name": "stdout",
     "output_type": "stream",
     "text": [
      "<class 'int'>\n",
      "<class 'float'>\n",
      "<class 'str'>\n",
      "<class 'str'>\n",
      "<class 'bool'>\n"
     ]
    }
   ],
   "source": [
    "# checking type of variables\n",
    "number = 1\n",
    "percentage =96.65\n",
    "name =\"hrishikesh\"\n",
    "Address=\"kharadi11@fgh\"\n",
    "value=True\n",
    "\n",
    "print(type(number))\n",
    "print(type(percentage))\n",
    "print(type(name))\n",
    "print(type(Address))\n",
    "print(type(value))"
   ]
  },
  {
   "cell_type": "code",
   "execution_count": 5,
   "id": "0186bbd9-3edd-48cd-9dd7-abda9080810c",
   "metadata": {},
   "outputs": [
    {
     "name": "stdout",
     "output_type": "stream",
     "text": [
      "True\n",
      "True\n",
      "False\n",
      "False\n",
      "True\n",
      "False\n"
     ]
    }
   ],
   "source": [
    "print(bool('1'))\n",
    "print(bool('0'))\n",
    "print(bool(''))\n",
    "print(bool(0))\n",
    "print(bool(1))\n",
    "print(bool([]))\n"
   ]
  },
  {
   "cell_type": "code",
   "execution_count": 6,
   "id": "3f23e5b7-cb37-4e41-b37a-416652184779",
   "metadata": {},
   "outputs": [
    {
     "ename": "SyntaxError",
     "evalue": "invalid decimal literal (2192870493.py, line 3)",
     "output_type": "error",
     "traceback": [
      "\u001b[1;36m  Cell \u001b[1;32mIn[6], line 3\u001b[1;36m\u001b[0m\n\u001b[1;33m    5day=50\u001b[0m\n\u001b[1;37m    ^\u001b[0m\n\u001b[1;31mSyntaxError\u001b[0m\u001b[1;31m:\u001b[0m invalid decimal literal\n"
     ]
    }
   ],
   "source": [
    "# checking some variables error\n",
    "# starting with nuber is not allowed \n",
    "5day=50"
   ]
  },
  {
   "cell_type": "code",
   "execution_count": 37,
   "id": "77013599-9836-4f6e-9bfc-f61710f2f573",
   "metadata": {},
   "outputs": [
    {
     "ename": "SyntaxError",
     "evalue": "invalid syntax. Maybe you meant '==' or ':=' instead of '='? (3173130390.py, line 2)",
     "output_type": "error",
     "traceback": [
      "\u001b[1;36m  Cell \u001b[1;32mIn[37], line 2\u001b[1;36m\u001b[0m\n\u001b[1;33m    @state=\"MAH\"\u001b[0m\n\u001b[1;37m     ^\u001b[0m\n\u001b[1;31mSyntaxError\u001b[0m\u001b[1;31m:\u001b[0m invalid syntax. Maybe you meant '==' or ':=' instead of '='?\n"
     ]
    }
   ],
   "source": [
    "# use of special charcter (except underscore _  ).at first is not allowed\n",
    "@state=\"MAH\""
   ]
  },
  {
   "cell_type": "code",
   "execution_count": 38,
   "id": "a4a84ce9-a43f-4325-8b3b-1640fde2c2af",
   "metadata": {},
   "outputs": [
    {
     "ename": "SyntaxError",
     "evalue": "invalid syntax (244821281.py, line 2)",
     "output_type": "error",
     "traceback": [
      "\u001b[1;36m  Cell \u001b[1;32mIn[38], line 2\u001b[1;36m\u001b[0m\n\u001b[1;33m    room num = 15\u001b[0m\n\u001b[1;37m         ^\u001b[0m\n\u001b[1;31mSyntaxError\u001b[0m\u001b[1;31m:\u001b[0m invalid syntax\n"
     ]
    }
   ],
   "source": [
    "# use of space also is not available in varibale\n",
    "room num = 15"
   ]
  },
  {
   "cell_type": "code",
   "execution_count": 9,
   "id": "df80e06e-8382-4842-a1c9-0abc19828833",
   "metadata": {},
   "outputs": [
    {
     "name": "stdout",
     "output_type": "stream",
     "text": [
      "10\n"
     ]
    }
   ],
   "source": [
    "# _ underscore is allowed at first later \n",
    "_room_num=10\n",
    "print(_room_num)"
   ]
  },
  {
   "cell_type": "code",
   "execution_count": 18,
   "id": "1baa867d-370e-4442-b031-2297e2e201ca",
   "metadata": {},
   "outputs": [
    {
     "name": "stdout",
     "output_type": "stream",
     "text": [
      "<class 'int'>\n",
      "<class 'str'>\n",
      "<class 'str'>\n",
      "101010\n",
      "16\n",
      "<class 'bool'>\n",
      "<class 'int'>\n"
     ]
    }
   ],
   "source": [
    "# type casting \n",
    "a=10\n",
    "print(type(a))\n",
    "b=str(a)\n",
    "print(type(b))\n",
    "c='10'\n",
    "print(type(c))\n",
    "print(c*3)\n",
    "d=4\n",
    "print(d*4)\n",
    "\n",
    "i=True\n",
    "print(type(i))\n",
    "j=int(i)\n",
    "print(type(j))"
   ]
  },
  {
   "cell_type": "code",
   "execution_count": 25,
   "id": "3b691b2e-cc65-4923-a44b-79780ccba7ca",
   "metadata": {},
   "outputs": [
    {
     "name": "stdin",
     "output_type": "stream",
     "text": [
      "Enter your First  Number 45\n",
      "Enter your Second Number 12\n"
     ]
    },
    {
     "name": "stdout",
     "output_type": "stream",
     "text": [
      "Addition of 45 and 12 is = 57\n",
      "Substraction of 45 and 12 = 33\n",
      "multiplication of 45 and 12 = 540\n",
      "Division of 45 and 12 = 3.75 \n",
      "reminder or modulo of 45 and 12 = 9 \n",
      "quetionet of 45 and 12  =3\n"
     ]
    }
   ],
   "source": [
    "# take  input from user\n",
    "A=int(input(\"Enter your First  Number\"))\n",
    "B=int(input(\"Enter your Second Number\"))\n",
    "print(f\"Addition of {A} and {B} is = {A+B}\")\n",
    "print(f\"Substraction of {A} and {B} = {A-B}\")\n",
    "print(f\"multiplication of {A} and {B} = {A*B}\")\n",
    "print(f\"Division of {A} and {B} = {A/B} \")\n",
    "print(f\"reminder or modulo of {A} and {B} = {A%B} \")\n",
    "print(f\"quetionet of {A} and {B}  ={A//B}\")"
   ]
  },
  {
   "cell_type": "code",
   "execution_count": 20,
   "id": "ef4d8213-5846-4dfd-af32-05fd55865399",
   "metadata": {},
   "outputs": [
    {
     "name": "stdout",
     "output_type": "stream",
     "text": [
      "\n",
      "# \n",
      "& & \n",
      "# # # \n",
      "& & & & \n"
     ]
    }
   ],
   "source": [
    "for i in range(1,6,1):\n",
    "    for j in range(1,i):\n",
    "        if i%2==0:\n",
    "            print(\"#\",end=\" \")\n",
    "        else:\n",
    "            print(\"&\",end=\" \")\n",
    "\n",
    "    print()        \n",
    "\n",
    "           "
   ]
  },
  {
   "cell_type": "code",
   "execution_count": 33,
   "id": "324e12b4-51c7-4e27-8d05-132e1a4a4589",
   "metadata": {},
   "outputs": [
    {
     "name": "stdout",
     "output_type": "stream",
     "text": [
      "A A A A A \n"
     ]
    }
   ],
   "source": [
    "print(\"A \"*5)"
   ]
  },
  {
   "cell_type": "code",
   "execution_count": 30,
   "id": "33cfb2e6-61fd-4889-bdd9-1c94a2b0cd28",
   "metadata": {},
   "outputs": [
    {
     "name": "stdin",
     "output_type": "stream",
     "text": [
      "enter any num 5\n"
     ]
    },
    {
     "name": "stdout",
     "output_type": "stream",
     "text": [
      "1 \n",
      "2 2 \n",
      "3 3 3 \n",
      "4 4 4 4 \n"
     ]
    }
   ],
   "source": [
    "num =int(input(\"enter any num\"))\n",
    "for i in range(1,num):\n",
    "     print((str(i)+' ')*i)  #  first we convert number in straing string can multiply with many times"
   ]
  },
  {
   "cell_type": "code",
   "execution_count": null,
   "id": "02511471-e9d3-47e2-a945-b428cb97af99",
   "metadata": {},
   "outputs": [],
   "source": []
  }
 ],
 "metadata": {
  "kernelspec": {
   "display_name": "Python 3 (ipykernel)",
   "language": "python",
   "name": "python3"
  },
  "language_info": {
   "codemirror_mode": {
    "name": "ipython",
    "version": 3
   },
   "file_extension": ".py",
   "mimetype": "text/x-python",
   "name": "python",
   "nbconvert_exporter": "python",
   "pygments_lexer": "ipython3",
   "version": "3.13.5"
  }
 },
 "nbformat": 4,
 "nbformat_minor": 5
}
